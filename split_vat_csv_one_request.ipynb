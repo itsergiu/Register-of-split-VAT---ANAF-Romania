{
 "cells": [
  {
   "cell_type": "markdown",
   "metadata": {},
   "source": [
    "Author do not assume and hereby disclaim any liability to any party for any loss, damage, or disruption caused by errors or omissions, whether such errors or omissions result from negligence, accident, or any other cause. The software is provided \"as is\", without warranty of any kind, express or implied, including but not limited to the warranties of merchantability, fitness for a particular purpose and noninfringement."
   ]
  },
  {
   "cell_type": "code",
   "execution_count": 1,
   "metadata": {},
   "outputs": [
    {
     "data": {
      "text/plain": [
       "'\\nREFERENCES\\n\\nhttps://www.anaconda.com/download/\\nhttp://jupyter.org/\\nhttps://www.python.org/\\n\\nhttps://www.anaf.ro/anaf/internet/ANAF/informatii_publice/informatii_agenti_economici/RegPlataDefalcataTVA\\nhttps://webservicesp.anaf.ro/AsynchWebService/api/v3/ws/tva\\n\\nWarning in Romanian language\\nb) Orice tentativa de suprasolicitare a serverului va fi pedepsita conform reglementarilor in vigoare.\\nWarning in English language\\nb) Any attempt to overload the server will be punished according to the regulations in force.\\n'"
      ]
     },
     "execution_count": 1,
     "metadata": {},
     "output_type": "execute_result"
    }
   ],
   "source": [
    "\"\"\"\n",
    "REFERENCES\n",
    "\n",
    "https://www.anaconda.com/download/\n",
    "http://jupyter.org/\n",
    "https://www.python.org/\n",
    "\n",
    "https://www.anaf.ro/anaf/internet/ANAF/informatii_publice/informatii_agenti_economici/RegPlataDefalcataTVA\n",
    "https://webservicesp.anaf.ro/AsynchWebService/api/v3/ws/tva\n",
    "\n",
    "Warning in Romanian language\n",
    "b) Orice tentativa de suprasolicitare a serverului va fi pedepsita conform reglementarilor in vigoare.\n",
    "Warning in English language\n",
    "b) Any attempt to overload the server will be punished according to the regulations in force.\n",
    "\"\"\""
   ]
  },
  {
   "cell_type": "code",
   "execution_count": 2,
   "metadata": {},
   "outputs": [
    {
     "name": "stdout",
     "output_type": "stream",
     "text": [
      "3.6.1 |Anaconda custom (64-bit)| (default, May 11 2017, 13:25:24) [MSC v.1900 64 bit (AMD64)] \n",
      "\n",
      "2017-12-22 10:04:51.784310 \n",
      "\n",
      "status_code: 200\n",
      "data: [{'cui': '10874881', 'data': '2017-12-22'}]\n",
      "denumire: SOCIETATEA NATIONALA \"NUCLEARELECTRICA\" SA\n",
      "cui: 10874881\n",
      "dataInceputSplitTVA: 2017-09-29\n",
      "dataAnulareSplitTVA:  \n",
      "statusSplitTVA: True\n",
      "request duration 0.14879672193839255\n"
     ]
    }
   ],
   "source": [
    "import requests\n",
    "import json\n",
    "import timeit\n",
    "import datetime\n",
    "import sys\n",
    "\n",
    "\n",
    "print(sys.version, '\\n')\n",
    "print(datetime.datetime.now(), '\\n')\n",
    "\n",
    "# https://www.anaf.ro/anaf/internet/ANAF/informatii_publice/informatii_agenti_economici/RegPlataDefalcataTVA\n",
    "url = \"https://webservicesp.anaf.ro/PlatitorTvaRest/api/v3/ws/tva\"\n",
    "\n",
    "data= [{\"cui\": '10874881', \"data\": '2017-12-22'}]\n",
    "start = timeit.default_timer()\n",
    "r = requests.post(url, json=data)\n",
    "#print(r.text) # If you want to view entire content\n",
    "\n",
    "key_start = r.text.find('[')\n",
    "key_start+=1\n",
    "key_end = r.text.find(']')\n",
    "\n",
    "dict_r = r.text[key_start:key_end]\n",
    "dict_r = json.loads(dict_r)\n",
    "stop = timeit.default_timer()\n",
    "\n",
    "print(\"status_code:\", r.status_code)\n",
    "print(\"data:\", data) \n",
    "print(\"denumire:\",dict_r['denumire'])\n",
    "print(\"cui:\", dict_r['cui'])\n",
    "print(\"dataInceputSplitTVA:\",dict_r['dataInceputSplitTVA'])\n",
    "print(\"dataAnulareSplitTVA:\", dict_r['dataAnulareSplitTVA'])\n",
    "print(\"statusSplitTVA:\",dict_r['statusSplitTVA'])\n",
    "print(\"request duration\", stop - start) \n",
    "\n",
    "# OUTPUT:\n",
    "# status_code: 200\n",
    "# data: [{'cui': '10874881', 'data': '2017-12-14'}]\n",
    "# denumire: SOCIETATEA NATIONALA \"NUCLEARELECTRICA\" SA\n",
    "# cui: 10874881\n",
    "# dataInceputSplitTVA: 2017-09-29\n",
    "# dataAnulareSplitTVA:  \n",
    "# statusSplitTVA: True\n",
    "# request duration 0.18321414984132353\n",
    "\n",
    "# Rough estimation of duration for request only part for 10000 records = 1832.141498 seconds"
   ]
  },
  {
   "cell_type": "code",
   "execution_count": 3,
   "metadata": {},
   "outputs": [
    {
     "data": {
      "text/plain": [
       "'{\"cod\":200,\"message\":\"SUCCESS\",\"found\":[{\"cui\":10874881,\"data\":\"2017-12-22\",\"denumire\":\"SOCIETATEA NATIONALA \\\\\"NUCLEARELECTRICA\\\\\" SA\",\"adresa\":\"MUNICIPIUL BUCUREÅžTI, SECTOR 1, STR. POLONA, NR.65\",\"scpTVA\":true,\"data_inceput_ScpTVA\":\"1998-08-13\",\"data_sfarsit_ScpTVA\":\" \",\"data_anul_imp_ScpTVA\":\" \",\"mesaj_ScpTVA\":\"platitor IN SCOPURI de TVA la data cautata\",\"dataInceputTvaInc\":\"\",\"dataSfarsitTvaInc\":\"\",\"dataActualizareTvaInc\":\"\",\"dataPublicareTvaInc\":\"\",\"tipActTvaInc\":\"\",\"statusTvaIncasare\":false,\"dataInactivare\":\" \",\"dataReactivare\":\" \",\"dataPublicare\":\" \",\"dataRadiere\":\" \",\"statusInactivi\":false,\"dataInceputSplitTVA\":\"2017-09-29\",\"dataAnulareSplitTVA\":\" \",\"statusSplitTVA\":true}],\"notfound\":[]}'"
      ]
     },
     "execution_count": 3,
     "metadata": {},
     "output_type": "execute_result"
    }
   ],
   "source": [
    "# Entire content\n",
    "r.text"
   ]
  }
 ],
 "metadata": {
  "kernelspec": {
   "display_name": "Python 3",
   "language": "python",
   "name": "python3"
  },
  "language_info": {
   "codemirror_mode": {
    "name": "ipython",
    "version": 3
   },
   "file_extension": ".py",
   "mimetype": "text/x-python",
   "name": "python",
   "nbconvert_exporter": "python",
   "pygments_lexer": "ipython3",
   "version": "3.6.1"
  }
 },
 "nbformat": 4,
 "nbformat_minor": 2
}
