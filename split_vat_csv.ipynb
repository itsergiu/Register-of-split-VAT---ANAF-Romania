{
 "cells": [
  {
   "cell_type": "markdown",
   "metadata": {},
   "source": [
    "Author do not assume and hereby disclaim any liability to any party for any loss, damage, or disruption caused by errors or omissions, whether such errors or omissions result from negligence, accident, or any other cause.\n",
    "The software is provided \"as is\", without warranty of any kind, express or implied, including but not limited to the warranties of merchantability, fitness for a particular purpose and noninfringement."
   ]
  },
  {
   "cell_type": "code",
   "execution_count": null,
   "metadata": {
    "collapsed": true
   },
   "outputs": [],
   "source": [
    "\"\"\"\n",
    "https://www.anaconda.com/download/\n",
    "http://jupyter.org/\n",
    "https://www.python.org/\n",
    "\n",
    "https://www.anaf.ro/anaf/internet/ANAF/informatii_publice/informatii_agenti_economici/RegPlataDefalcataTVA\n",
    "https://webservicesp.anaf.ro/AsynchWebService/api/v3/ws/tva\n",
    "\n",
    "Warning in Romanian language\n",
    "b) Orice tentativa de suprasolicitare a serverului va fi pedepsita conform reglementarilor in vigoare.\n",
    "Warning in English language\n",
    "b) Any attempt to overload the server will be punished according to the regulations in force.\n",
    "\"\"\""
   ]
  },
  {
   "cell_type": "code",
   "execution_count": null,
   "metadata": {
    "collapsed": true
   },
   "outputs": [],
   "source": [
    "\"\"\"\n",
    "CREATE INPUT FILE IN CSV FORMAT\n",
    "Source path_upload: active_vendor.csv:\n",
    "Vendor_key,Vendor_name,CUI\n",
    "\"SNN\",\"S.N. NUCLEARELECTRICA S.A.\",\"10874881\"\n",
    "\"SNP\",\"OMV PETROM S.A.\",\"1590082\"\n",
    "\"\"\""
   ]
  },
  {
   "cell_type": "code",
   "execution_count": null,
   "metadata": {
    "collapsed": true
   },
   "outputs": [],
   "source": [
    "# Run cell\n",
    "date = '2017-12-20' # query date\n",
    "path_upload = \"C:/00SplitVAT/active_vendor.csv\"\n",
    "path_save = \"C:/00SplitVAT/active_vendor_result.csv\""
   ]
  },
  {
   "cell_type": "code",
   "execution_count": null,
   "metadata": {
    "collapsed": true
   },
   "outputs": [],
   "source": [
    "# Run cell\n",
    "import requests\n",
    "import json\n",
    "import timeit\n",
    "import time\n",
    "import csv\n",
    "import sys\n",
    "\n",
    "print(sys.version)\n",
    "# https://www.anaf.ro/anaf/internet/ANAF/informatii_publice/informatii_agenti_economici/RegPlataDefalcataTVA\n",
    "# url = \"https://webservicesp.anaf.ro/AsynchWebService/api/v3/ws/tva\" # Asynchronous Web Service\n",
    "url = \"https://webservicesp.anaf.ro/PlatitorTvaRest/api/v3/ws/tva\" # Synchronous Web Service\n",
    "\n",
    "file_upload = open(path_upload, newline='')\n",
    "reader = csv.reader(file_upload)\n",
    "header = next(reader)\n",
    "\n",
    "file_save = open(path_save, 'w', encoding=\"utf-8\")\n",
    "writer = csv.writer(file_save)\n",
    "writer.writerow ([\"Vendor_key\", \"Vendor_name\", \"CUI\", \"status_code\", \"data\", \"denumire\", \\\n",
    "                  \"cui:\", \"dataInceputSplitTVA\", \"dataAnulareSplitTVA\", \"statusSplitTVA\"])\n",
    "\n",
    "start = timeit.default_timer()\n",
    "i = 0\n",
    "for row in reader:\n",
    "    i+=1\n",
    "    cui = row[2]\n",
    "    data_dict = {'cui': cui, 'data': date}\n",
    "    data = []\n",
    "    data.append(data_dict)\n",
    "    r = requests.post(url, json=data)\n",
    "    #print(r.text) # If you want to view entire content\n",
    "\n",
    "    key_start = r.text.find('[')\n",
    "    key_start+=1\n",
    "    key_end = r.text.find(']')\n",
    "\n",
    "    if r.status_code == 200:\n",
    "        r_dict = r.text[key_start:key_end]\n",
    "        r_dict = json.loads(r_dict)\n",
    "        writer.writerow([row[0], row[1], row[2], r.status_code, data, r_dict['denumire'], \\\n",
    "                         r_dict['cui'], r_dict['dataInceputSplitTVA'], r_dict['dataAnulareSplitTVA'], \\\n",
    "                         r_dict['statusSplitTVA']])\n",
    "    else:\n",
    "        writer.writerow ([row[0], row[1], row[2], r.status_code, data,\"\",\"\",\"\",\"\",\"\"])\n",
    "        \n",
    "# If you want to print results        \n",
    "#    print([row[0], row[1], row[2], r.status_code, data, r_dict['denumire'], \\\n",
    "#          r_dict['cui'], r_dict['dataInceputSplitTVA'], r_dict['dataAnulareSplitTVA'], \\\n",
    "#          r_dict['statusSplitTVA']])\n",
    "#    print(row[0])\n",
    "        \n",
    "    print('{} / {} / {}.'.format(row[0],r.status_code,i), end='\\r')\n",
    "    sys.stdout.flush()\n",
    "\n",
    "file_upload.close()\n",
    "file_save.close()\n",
    "\n",
    "stop = timeit.default_timer()\n",
    "print(\"request duration:\", stop - start)"
   ]
  },
  {
   "cell_type": "code",
   "execution_count": null,
   "metadata": {
    "collapsed": true
   },
   "outputs": [],
   "source": [
    "\"\"\"\n",
    "OUTPUT FILE IN CSV FORMAT\n",
    "Result path_save: active_vendor.csv\n",
    "Vendor_key,Vendor_name,CUI,status_code,data,denumire,cui:,dataInceputSplitTVA,dataAnulareSplitTVA,statusSplitTVA\n",
    "SNN,S.N. NUCLEARELECTRICA S.A.,10874881,200,\"[{'cui': '10874881', 'data': '2017-12-20'}]\",\"SOCIETATEA NATIONALA \"\"NUCLEARELECTRICA\"\" SA\",10874881,2017-09-29, ,True\n",
    "SNP,OMV PETROM S.A.,1590082,200,\"[{'cui': '1590082', 'data': '2017-12-20'}]\",OMV PETROM SA,1590082,,,False\n",
    "\"\"\""
   ]
  },
  {
   "cell_type": "code",
   "execution_count": null,
   "metadata": {
    "collapsed": true
   },
   "outputs": [],
   "source": []
  }
 ],
 "metadata": {
  "kernelspec": {
   "display_name": "Python 3",
   "language": "python",
   "name": "python3"
  },
  "language_info": {
   "codemirror_mode": {
    "name": "ipython",
    "version": 3
   },
   "file_extension": ".py",
   "mimetype": "text/x-python",
   "name": "python",
   "nbconvert_exporter": "python",
   "pygments_lexer": "ipython3",
   "version": "3.6.3"
  }
 },
 "nbformat": 4,
 "nbformat_minor": 2
}
